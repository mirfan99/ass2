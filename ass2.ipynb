{
 "cells": [
  {
   "cell_type": "markdown",
   "id": "2cdfe7bd-c3ee-4155-a458-a41b29914b4d",
   "metadata": {},
   "source": [
    "### How do you comment code in Python? What are the different types of comments?"
   ]
  },
  {
   "cell_type": "code",
   "execution_count": 1,
   "id": "9fa5d83d-3dbd-42c5-8812-faf121c21fb1",
   "metadata": {},
   "outputs": [],
   "source": [
    "#To comment code in pytho,use hash (#) symbol for single line comment and triple-quote (\"\"\" or ''') for multiple-line string comment\n",
    "# 1. single line comment, 2. Multiline comment, 3. Triple-quoted string"
   ]
  },
  {
   "cell_type": "markdown",
   "id": "b3276229-57bc-4d51-bec6-ef78d99719e9",
   "metadata": {},
   "source": [
    "### Q2. What are variables in Python? How do you declare and assign values to variables?"
   ]
  },
  {
   "cell_type": "code",
   "execution_count": 2,
   "id": "670e6c5d-d087-4b5a-a5e2-a7dbb78ae6c1",
   "metadata": {},
   "outputs": [],
   "source": [
    "# Variables in python are memory location where stores data values\n",
    "# python has no command to declare a variable\n",
    "# To assign values to variables use this.\n",
    "# X = 25  int\n",
    "# y ='Hello' or \"Hello\"   strig\n",
    "# z = True     boolen"
   ]
  },
  {
   "cell_type": "markdown",
   "id": "7f2a2df3-34de-4460-9756-7eb4fdbf782d",
   "metadata": {},
   "source": [
    "### Q3. How do you convert one data type to another in Python?"
   ]
  },
  {
   "cell_type": "code",
   "execution_count": 3,
   "id": "232b4baf-4c66-4d0b-9a9b-07ca51901a58",
   "metadata": {},
   "outputs": [],
   "source": [
    "# To convert one data type to another in python,use built-in function such as-\n",
    "# int() convert string data into integer or vice-versa\n",
    "# x = \"45\"  string\n",
    "# y = int(x)  convert into integer"
   ]
  },
  {
   "cell_type": "markdown",
   "id": "dab4ba08-aeca-4eec-8e67-ff35cba5b1f5",
   "metadata": {},
   "source": [
    "### Q4. How do you write and execute a Python script from the command line?"
   ]
  },
  {
   "cell_type": "code",
   "execution_count": 4,
   "id": "9b3525a5-321f-411c-8235-a7ff9440488c",
   "metadata": {},
   "outputs": [
    {
     "name": "stdout",
     "output_type": "stream",
     "text": [
      "Hello, world!\n"
     ]
    }
   ],
   "source": [
    "# To write a Python script,we use IDE or some text editors.\n",
    "# To execute a python script we use print function..\n",
    "print('Hello, world!')"
   ]
  },
  {
   "cell_type": "markdown",
   "id": "2479eb31-51f1-498c-9b92-47c2c19da12a",
   "metadata": {},
   "source": [
    "### Q5. Given a list my_list = [1, 2, 3, 4, 5], write the code to slice the list and obtain the sub-list [2, 3]."
   ]
  },
  {
   "cell_type": "code",
   "execution_count": 5,
   "id": "06f5112c-9218-4687-81a5-83c539ae6917",
   "metadata": {},
   "outputs": [
    {
     "name": "stdout",
     "output_type": "stream",
     "text": [
      "[2, 3]\n"
     ]
    }
   ],
   "source": [
    "my_list = [1,2,3,4,5]\n",
    "sub_list = my_list[1:3]\n",
    "print(sub_list)"
   ]
  },
  {
   "cell_type": "markdown",
   "id": "524fc762-6279-49d2-bf80-694066637dd2",
   "metadata": {},
   "source": [
    "### Q6. What is a complex number in mathematics, and how is it represented in Python?"
   ]
  },
  {
   "cell_type": "code",
   "execution_count": 6,
   "id": "bb43238f-56ca-4cfb-81dc-bd75fb106161",
   "metadata": {},
   "outputs": [
    {
     "name": "stdout",
     "output_type": "stream",
     "text": [
      "(5+6j)\n",
      "<class 'complex'>\n"
     ]
    }
   ],
   "source": [
    "# The number which is written as a+ib,where a and b are real parts but i is imaginary part called complex number.\n",
    "z = 5 + 6j\n",
    "print(z)\n",
    "print(type(z))"
   ]
  },
  {
   "cell_type": "markdown",
   "id": "5a30985e-ea24-4ea3-9a09-ac65c8e5afdf",
   "metadata": {},
   "source": [
    "### Q7. What is the correct way to declare a variable named age and assign the value 25 to it?"
   ]
  },
  {
   "cell_type": "code",
   "execution_count": 7,
   "id": "efe534c5-6974-4d73-be53-aa82238cdcda",
   "metadata": {},
   "outputs": [
    {
     "name": "stdout",
     "output_type": "stream",
     "text": [
      "25\n"
     ]
    }
   ],
   "source": [
    "age = 25\n",
    "print(age)"
   ]
  },
  {
   "cell_type": "markdown",
   "id": "7d81ed46-9170-4428-a40b-e2ca61323a4b",
   "metadata": {},
   "source": [
    "### Q8. Declare a variable named price and assign the value 9.99 to it. What data type does this variable belong to?"
   ]
  },
  {
   "cell_type": "code",
   "execution_count": 8,
   "id": "43ddfd5c-712f-4f1d-9ebe-8d4542b82e7a",
   "metadata": {},
   "outputs": [
    {
     "name": "stdout",
     "output_type": "stream",
     "text": [
      "9.99\n",
      "<class 'float'>\n"
     ]
    }
   ],
   "source": [
    "price = 9.99\n",
    "print(price)\n",
    "print(type(price))    # float datatype"
   ]
  },
  {
   "cell_type": "markdown",
   "id": "dbdb97f9-652a-4321-bf76-7e4c0a8e7f13",
   "metadata": {},
   "source": [
    "### Q9. Create a variable named name and assign your full name to it as a string. How would you print the  value of this variable?"
   ]
  },
  {
   "cell_type": "code",
   "execution_count": 9,
   "id": "ea9e73c8-f983-409f-afd6-26c09682aa64",
   "metadata": {},
   "outputs": [
    {
     "name": "stdout",
     "output_type": "stream",
     "text": [
      "Md Irfan Alam\n",
      "<class 'str'>\n"
     ]
    }
   ],
   "source": [
    "name = 'Md Irfan Alam'\n",
    "print(name)\n",
    "print(type(name))"
   ]
  },
  {
   "cell_type": "markdown",
   "id": "8b92465e-6dd9-4b3d-a5b6-9810b5b0f8b3",
   "metadata": {},
   "source": [
    "### Q10. Given the string \"Hello, World!\", extract the substring \"World\"."
   ]
  },
  {
   "cell_type": "code",
   "execution_count": 10,
   "id": "8454ae5a-40a4-440e-a682-c351b9ed60f6",
   "metadata": {},
   "outputs": [
    {
     "name": "stdout",
     "output_type": "stream",
     "text": [
      " World\n"
     ]
    }
   ],
   "source": [
    "s = \"Hello, World\"\n",
    "print(s[6:])"
   ]
  },
  {
   "cell_type": "markdown",
   "id": "60861570-b962-4d87-9ba4-ba8c18b4d94e",
   "metadata": {},
   "source": [
    "### Q11. Create a variable named \"is_student\" and assign it a boolean value indicating whether you are currently a student or not."
   ]
  },
  {
   "cell_type": "code",
   "execution_count": 11,
   "id": "ddeb6ef0-7f16-4d24-9947-1cbd7647e05d",
   "metadata": {},
   "outputs": [
    {
     "name": "stdout",
     "output_type": "stream",
     "text": [
      "True\n"
     ]
    }
   ],
   "source": [
    "is_student = True  # False\n",
    "print(is_student)"
   ]
  },
  {
   "cell_type": "code",
   "execution_count": null,
   "id": "a06bdd9b-ff21-451e-bb2b-ca092bd207bc",
   "metadata": {},
   "outputs": [],
   "source": [
    "student = input('Enter input: ')\n",
    "if student == 'is_student':\n",
    "    print('You are a student')\n",
    "else:\n",
    "    print('You are not a student')"
   ]
  }
 ],
 "metadata": {
  "kernelspec": {
   "display_name": "Python 3 (ipykernel)",
   "language": "python",
   "name": "python3"
  },
  "language_info": {
   "codemirror_mode": {
    "name": "ipython",
    "version": 3
   },
   "file_extension": ".py",
   "mimetype": "text/x-python",
   "name": "python",
   "nbconvert_exporter": "python",
   "pygments_lexer": "ipython3",
   "version": "3.10.8"
  }
 },
 "nbformat": 4,
 "nbformat_minor": 5
}
